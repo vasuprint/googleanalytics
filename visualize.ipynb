{
 "cells": [
  {
   "cell_type": "code",
   "execution_count": 107,
   "metadata": {},
   "outputs": [],
   "source": [
    "import pandas as pd"
   ]
  },
  {
   "cell_type": "code",
   "execution_count": 108,
   "metadata": {},
   "outputs": [
    {
     "data": {
      "text/html": [
       "<div>\n",
       "<style scoped>\n",
       "    .dataframe tbody tr th:only-of-type {\n",
       "        vertical-align: middle;\n",
       "    }\n",
       "\n",
       "    .dataframe tbody tr th {\n",
       "        vertical-align: top;\n",
       "    }\n",
       "\n",
       "    .dataframe thead th {\n",
       "        text-align: right;\n",
       "    }\n",
       "</style>\n",
       "<table border=\"1\" class=\"dataframe\">\n",
       "  <thead>\n",
       "    <tr style=\"text-align: right;\">\n",
       "      <th></th>\n",
       "      <th>Program</th>\n",
       "      <th>Collections</th>\n",
       "      <th>External User Id</th>\n",
       "      <th>User Name</th>\n",
       "      <th>User Email</th>\n",
       "      <th>Removed From Program</th>\n",
       "      <th>Course Name</th>\n",
       "      <th>Course ID</th>\n",
       "      <th>Partner Name(s)</th>\n",
       "      <th>Module</th>\n",
       "      <th>...</th>\n",
       "      <th>Item</th>\n",
       "      <th>Item Order</th>\n",
       "      <th>Attempt Grade</th>\n",
       "      <th>Grade After Override</th>\n",
       "      <th>Is Attempt Passed</th>\n",
       "      <th>Attempt Timestamp (UTC)</th>\n",
       "      <th>Item Attempt Number</th>\n",
       "      <th>Is Course Passed</th>\n",
       "      <th>Content Engagement</th>\n",
       "      <th>Learning Hours</th>\n",
       "    </tr>\n",
       "  </thead>\n",
       "  <tbody>\n",
       "    <tr>\n",
       "      <th>0</th>\n",
       "      <td>CU Gen Ed : KNOW ACCUM III (2022/1)</td>\n",
       "      <td>collection</td>\n",
       "      <td>6.238237e+09</td>\n",
       "      <td>Abhijeet Baghel</td>\n",
       "      <td>6238237221@student.chula.ac.th</td>\n",
       "      <td>No</td>\n",
       "      <td>Foundations: Data, Data, Everywhere</td>\n",
       "      <td>kvb6uMbTEeqZOA5eKDHL-w</td>\n",
       "      <td>Google</td>\n",
       "      <td>Introducing data analytics</td>\n",
       "      <td>...</td>\n",
       "      <td>*Weekly challenge 1*</td>\n",
       "      <td>1</td>\n",
       "      <td>0.2188</td>\n",
       "      <td>NaN</td>\n",
       "      <td>No</td>\n",
       "      <td>2023-02-09T18:04:05.840Z</td>\n",
       "      <td>1</td>\n",
       "      <td>Yes</td>\n",
       "      <td>86.44</td>\n",
       "      <td>5.5494</td>\n",
       "    </tr>\n",
       "    <tr>\n",
       "      <th>1</th>\n",
       "      <td>CU Gen Ed : KNOW ACCUM III (2022/1)</td>\n",
       "      <td>collection</td>\n",
       "      <td>6.238237e+09</td>\n",
       "      <td>Abhijeet Baghel</td>\n",
       "      <td>6238237221@student.chula.ac.th</td>\n",
       "      <td>No</td>\n",
       "      <td>Foundations: Data, Data, Everywhere</td>\n",
       "      <td>kvb6uMbTEeqZOA5eKDHL-w</td>\n",
       "      <td>Google</td>\n",
       "      <td>Introducing data analytics</td>\n",
       "      <td>...</td>\n",
       "      <td>*Weekly challenge 1*</td>\n",
       "      <td>1</td>\n",
       "      <td>0.4063</td>\n",
       "      <td>NaN</td>\n",
       "      <td>No</td>\n",
       "      <td>2023-02-09T18:06:23.260Z</td>\n",
       "      <td>2</td>\n",
       "      <td>Yes</td>\n",
       "      <td>86.44</td>\n",
       "      <td>5.5494</td>\n",
       "    </tr>\n",
       "    <tr>\n",
       "      <th>2</th>\n",
       "      <td>CU Gen Ed : KNOW ACCUM III (2022/1)</td>\n",
       "      <td>collection</td>\n",
       "      <td>6.238237e+09</td>\n",
       "      <td>Abhijeet Baghel</td>\n",
       "      <td>6238237221@student.chula.ac.th</td>\n",
       "      <td>No</td>\n",
       "      <td>Foundations: Data, Data, Everywhere</td>\n",
       "      <td>kvb6uMbTEeqZOA5eKDHL-w</td>\n",
       "      <td>Google</td>\n",
       "      <td>Introducing data analytics</td>\n",
       "      <td>...</td>\n",
       "      <td>*Weekly challenge 1*</td>\n",
       "      <td>1</td>\n",
       "      <td>0.9375</td>\n",
       "      <td>NaN</td>\n",
       "      <td>Yes</td>\n",
       "      <td>2023-02-09T18:11:16.579Z</td>\n",
       "      <td>3</td>\n",
       "      <td>Yes</td>\n",
       "      <td>86.44</td>\n",
       "      <td>5.5494</td>\n",
       "    </tr>\n",
       "    <tr>\n",
       "      <th>3</th>\n",
       "      <td>CU Gen Ed : KNOW ACCUM III (2022/1)</td>\n",
       "      <td>collection</td>\n",
       "      <td>6.238237e+09</td>\n",
       "      <td>Abhijeet Baghel</td>\n",
       "      <td>6238237221@student.chula.ac.th</td>\n",
       "      <td>No</td>\n",
       "      <td>Foundations: Data, Data, Everywhere</td>\n",
       "      <td>kvb6uMbTEeqZOA5eKDHL-w</td>\n",
       "      <td>Google</td>\n",
       "      <td>All about analytical thinking</td>\n",
       "      <td>...</td>\n",
       "      <td>*Weekly challenge 2*</td>\n",
       "      <td>2</td>\n",
       "      <td>0.875</td>\n",
       "      <td>NaN</td>\n",
       "      <td>Yes</td>\n",
       "      <td>2023-02-10T04:59:17.173Z</td>\n",
       "      <td>1</td>\n",
       "      <td>Yes</td>\n",
       "      <td>86.44</td>\n",
       "      <td>5.5494</td>\n",
       "    </tr>\n",
       "    <tr>\n",
       "      <th>4</th>\n",
       "      <td>CU Gen Ed : KNOW ACCUM III (2022/1)</td>\n",
       "      <td>collection</td>\n",
       "      <td>6.238237e+09</td>\n",
       "      <td>Abhijeet Baghel</td>\n",
       "      <td>6238237221@student.chula.ac.th</td>\n",
       "      <td>No</td>\n",
       "      <td>Foundations: Data, Data, Everywhere</td>\n",
       "      <td>kvb6uMbTEeqZOA5eKDHL-w</td>\n",
       "      <td>Google</td>\n",
       "      <td>The wonderful world of data</td>\n",
       "      <td>...</td>\n",
       "      <td>*Weekly challenge 3*</td>\n",
       "      <td>3</td>\n",
       "      <td>0.125</td>\n",
       "      <td>NaN</td>\n",
       "      <td>No</td>\n",
       "      <td>2023-02-11T17:47:58.545Z</td>\n",
       "      <td>1</td>\n",
       "      <td>Yes</td>\n",
       "      <td>86.44</td>\n",
       "      <td>5.5494</td>\n",
       "    </tr>\n",
       "  </tbody>\n",
       "</table>\n",
       "<p>5 rows × 21 columns</p>\n",
       "</div>"
      ],
      "text/plain": [
       "                               Program Collections  External User Id  \\\n",
       "0  CU Gen Ed : KNOW ACCUM III (2022/1)  collection      6.238237e+09   \n",
       "1  CU Gen Ed : KNOW ACCUM III (2022/1)  collection      6.238237e+09   \n",
       "2  CU Gen Ed : KNOW ACCUM III (2022/1)  collection      6.238237e+09   \n",
       "3  CU Gen Ed : KNOW ACCUM III (2022/1)  collection      6.238237e+09   \n",
       "4  CU Gen Ed : KNOW ACCUM III (2022/1)  collection      6.238237e+09   \n",
       "\n",
       "         User Name                      User Email Removed From Program  \\\n",
       "0  Abhijeet Baghel  6238237221@student.chula.ac.th                   No   \n",
       "1  Abhijeet Baghel  6238237221@student.chula.ac.th                   No   \n",
       "2  Abhijeet Baghel  6238237221@student.chula.ac.th                   No   \n",
       "3  Abhijeet Baghel  6238237221@student.chula.ac.th                   No   \n",
       "4  Abhijeet Baghel  6238237221@student.chula.ac.th                   No   \n",
       "\n",
       "                           Course Name               Course ID  \\\n",
       "0  Foundations: Data, Data, Everywhere  kvb6uMbTEeqZOA5eKDHL-w   \n",
       "1  Foundations: Data, Data, Everywhere  kvb6uMbTEeqZOA5eKDHL-w   \n",
       "2  Foundations: Data, Data, Everywhere  kvb6uMbTEeqZOA5eKDHL-w   \n",
       "3  Foundations: Data, Data, Everywhere  kvb6uMbTEeqZOA5eKDHL-w   \n",
       "4  Foundations: Data, Data, Everywhere  kvb6uMbTEeqZOA5eKDHL-w   \n",
       "\n",
       "  Partner Name(s)                         Module  ...                  Item  \\\n",
       "0          Google     Introducing data analytics  ...  *Weekly challenge 1*   \n",
       "1          Google     Introducing data analytics  ...  *Weekly challenge 1*   \n",
       "2          Google     Introducing data analytics  ...  *Weekly challenge 1*   \n",
       "3          Google  All about analytical thinking  ...  *Weekly challenge 2*   \n",
       "4          Google    The wonderful world of data  ...  *Weekly challenge 3*   \n",
       "\n",
       "  Item Order  Attempt Grade Grade After Override  Is Attempt Passed  \\\n",
       "0          1         0.2188                  NaN                 No   \n",
       "1          1         0.4063                  NaN                 No   \n",
       "2          1         0.9375                  NaN                Yes   \n",
       "3          2          0.875                  NaN                Yes   \n",
       "4          3          0.125                  NaN                 No   \n",
       "\n",
       "    Attempt Timestamp (UTC) Item Attempt Number  Is Course Passed  \\\n",
       "0  2023-02-09T18:04:05.840Z                   1               Yes   \n",
       "1  2023-02-09T18:06:23.260Z                   2               Yes   \n",
       "2  2023-02-09T18:11:16.579Z                   3               Yes   \n",
       "3  2023-02-10T04:59:17.173Z                   1               Yes   \n",
       "4  2023-02-11T17:47:58.545Z                   1               Yes   \n",
       "\n",
       "  Content Engagement  Learning Hours  \n",
       "0              86.44          5.5494  \n",
       "1              86.44          5.5494  \n",
       "2              86.44          5.5494  \n",
       "3              86.44          5.5494  \n",
       "4              86.44          5.5494  \n",
       "\n",
       "[5 rows x 21 columns]"
      ]
     },
     "execution_count": 108,
     "metadata": {},
     "output_type": "execute_result"
    }
   ],
   "source": [
    "df = pd.read_excel(\"collection.xlsx\")\n",
    "df.head()"
   ]
  },
  {
   "cell_type": "code",
   "execution_count": 109,
   "metadata": {},
   "outputs": [
    {
     "data": {
      "text/plain": [
       "Index(['Program', 'Collections', 'External User Id', 'User Name', 'User Email',\n",
       "       'Removed From Program', 'Course Name', 'Course ID', 'Partner Name(s)',\n",
       "       'Module', 'Lesson', 'Item', 'Item Order', 'Attempt Grade',\n",
       "       'Grade After Override', 'Is Attempt Passed', 'Attempt Timestamp (UTC)',\n",
       "       'Item Attempt Number', 'Is Course Passed', 'Content Engagement',\n",
       "       'Learning Hours'],\n",
       "      dtype='object')"
      ]
     },
     "execution_count": 109,
     "metadata": {},
     "output_type": "execute_result"
    }
   ],
   "source": [
    "df.columns"
   ]
  },
  {
   "cell_type": "code",
   "execution_count": 110,
   "metadata": {},
   "outputs": [
    {
     "data": {
      "text/html": [
       "<div>\n",
       "<style scoped>\n",
       "    .dataframe tbody tr th:only-of-type {\n",
       "        vertical-align: middle;\n",
       "    }\n",
       "\n",
       "    .dataframe tbody tr th {\n",
       "        vertical-align: top;\n",
       "    }\n",
       "\n",
       "    .dataframe thead th {\n",
       "        text-align: right;\n",
       "    }\n",
       "</style>\n",
       "<table border=\"1\" class=\"dataframe\">\n",
       "  <thead>\n",
       "    <tr style=\"text-align: right;\">\n",
       "      <th></th>\n",
       "      <th>User Name</th>\n",
       "      <th>Course Name</th>\n",
       "      <th>Module</th>\n",
       "      <th>Lesson</th>\n",
       "      <th>Is Attempt Passed</th>\n",
       "      <th>Is Course Passed</th>\n",
       "      <th>Content Engagement</th>\n",
       "      <th>Learning Hours</th>\n",
       "    </tr>\n",
       "  </thead>\n",
       "  <tbody>\n",
       "    <tr>\n",
       "      <th>0</th>\n",
       "      <td>Abhijeet Baghel</td>\n",
       "      <td>Foundations: Data, Data, Everywhere</td>\n",
       "      <td>Introducing data analytics</td>\n",
       "      <td>*Weekly challenge 1*</td>\n",
       "      <td>No</td>\n",
       "      <td>Yes</td>\n",
       "      <td>86.44</td>\n",
       "      <td>5.5494</td>\n",
       "    </tr>\n",
       "    <tr>\n",
       "      <th>1</th>\n",
       "      <td>Abhijeet Baghel</td>\n",
       "      <td>Foundations: Data, Data, Everywhere</td>\n",
       "      <td>Introducing data analytics</td>\n",
       "      <td>*Weekly challenge 1*</td>\n",
       "      <td>No</td>\n",
       "      <td>Yes</td>\n",
       "      <td>86.44</td>\n",
       "      <td>5.5494</td>\n",
       "    </tr>\n",
       "    <tr>\n",
       "      <th>2</th>\n",
       "      <td>Abhijeet Baghel</td>\n",
       "      <td>Foundations: Data, Data, Everywhere</td>\n",
       "      <td>Introducing data analytics</td>\n",
       "      <td>*Weekly challenge 1*</td>\n",
       "      <td>Yes</td>\n",
       "      <td>Yes</td>\n",
       "      <td>86.44</td>\n",
       "      <td>5.5494</td>\n",
       "    </tr>\n",
       "    <tr>\n",
       "      <th>3</th>\n",
       "      <td>Abhijeet Baghel</td>\n",
       "      <td>Foundations: Data, Data, Everywhere</td>\n",
       "      <td>All about analytical thinking</td>\n",
       "      <td>*Weekly challenge  2*</td>\n",
       "      <td>Yes</td>\n",
       "      <td>Yes</td>\n",
       "      <td>86.44</td>\n",
       "      <td>5.5494</td>\n",
       "    </tr>\n",
       "    <tr>\n",
       "      <th>4</th>\n",
       "      <td>Abhijeet Baghel</td>\n",
       "      <td>Foundations: Data, Data, Everywhere</td>\n",
       "      <td>The wonderful world of data</td>\n",
       "      <td>*Weekly challenge 3*</td>\n",
       "      <td>No</td>\n",
       "      <td>Yes</td>\n",
       "      <td>86.44</td>\n",
       "      <td>5.5494</td>\n",
       "    </tr>\n",
       "  </tbody>\n",
       "</table>\n",
       "</div>"
      ],
      "text/plain": [
       "         User Name                          Course Name  \\\n",
       "0  Abhijeet Baghel  Foundations: Data, Data, Everywhere   \n",
       "1  Abhijeet Baghel  Foundations: Data, Data, Everywhere   \n",
       "2  Abhijeet Baghel  Foundations: Data, Data, Everywhere   \n",
       "3  Abhijeet Baghel  Foundations: Data, Data, Everywhere   \n",
       "4  Abhijeet Baghel  Foundations: Data, Data, Everywhere   \n",
       "\n",
       "                          Module                 Lesson Is Attempt Passed  \\\n",
       "0     Introducing data analytics   *Weekly challenge 1*                No   \n",
       "1     Introducing data analytics   *Weekly challenge 1*                No   \n",
       "2     Introducing data analytics   *Weekly challenge 1*               Yes   \n",
       "3  All about analytical thinking  *Weekly challenge  2*               Yes   \n",
       "4    The wonderful world of data   *Weekly challenge 3*                No   \n",
       "\n",
       "  Is Course Passed  Content Engagement  Learning Hours  \n",
       "0              Yes               86.44          5.5494  \n",
       "1              Yes               86.44          5.5494  \n",
       "2              Yes               86.44          5.5494  \n",
       "3              Yes               86.44          5.5494  \n",
       "4              Yes               86.44          5.5494  "
      ]
     },
     "execution_count": 110,
     "metadata": {},
     "output_type": "execute_result"
    }
   ],
   "source": [
    "df.drop(['Program','Collections','External User Id', 'User Email','Removed From Program', 'Course ID',\n",
    "       'Partner Name(s)', 'Item', 'Item Order', 'Attempt Grade', 'Grade After Override',\n",
    "       'Attempt Timestamp (UTC)', 'Item Attempt Number'], axis=1 , inplace=True)\n",
    "df.head()"
   ]
  },
  {
   "cell_type": "code",
   "execution_count": 111,
   "metadata": {},
   "outputs": [
    {
     "data": {
      "text/html": [
       "<div>\n",
       "<style scoped>\n",
       "    .dataframe tbody tr th:only-of-type {\n",
       "        vertical-align: middle;\n",
       "    }\n",
       "\n",
       "    .dataframe tbody tr th {\n",
       "        vertical-align: top;\n",
       "    }\n",
       "\n",
       "    .dataframe thead th {\n",
       "        text-align: right;\n",
       "    }\n",
       "</style>\n",
       "<table border=\"1\" class=\"dataframe\">\n",
       "  <thead>\n",
       "    <tr style=\"text-align: right;\">\n",
       "      <th></th>\n",
       "      <th>User Name</th>\n",
       "      <th>Course Name</th>\n",
       "      <th>Module</th>\n",
       "      <th>Lesson</th>\n",
       "      <th>Is Attempt Passed</th>\n",
       "      <th>Is Course Passed</th>\n",
       "      <th>Content Engagement</th>\n",
       "      <th>Learning Hours</th>\n",
       "    </tr>\n",
       "  </thead>\n",
       "  <tbody>\n",
       "    <tr>\n",
       "      <th>0</th>\n",
       "      <td>Abhijeet Baghel</td>\n",
       "      <td>Foundations: Data, Data, Everywhere</td>\n",
       "      <td>Introducing data analytics</td>\n",
       "      <td>*Weekly challenge 1*</td>\n",
       "      <td>No</td>\n",
       "      <td>Yes</td>\n",
       "      <td>86.44</td>\n",
       "      <td>5.5494</td>\n",
       "    </tr>\n",
       "    <tr>\n",
       "      <th>1</th>\n",
       "      <td>Abhijeet Baghel</td>\n",
       "      <td>Foundations: Data, Data, Everywhere</td>\n",
       "      <td>Introducing data analytics</td>\n",
       "      <td>*Weekly challenge 1*</td>\n",
       "      <td>No</td>\n",
       "      <td>Yes</td>\n",
       "      <td>86.44</td>\n",
       "      <td>5.5494</td>\n",
       "    </tr>\n",
       "    <tr>\n",
       "      <th>2</th>\n",
       "      <td>Abhijeet Baghel</td>\n",
       "      <td>Foundations: Data, Data, Everywhere</td>\n",
       "      <td>Introducing data analytics</td>\n",
       "      <td>*Weekly challenge 1*</td>\n",
       "      <td>Yes</td>\n",
       "      <td>Yes</td>\n",
       "      <td>86.44</td>\n",
       "      <td>5.5494</td>\n",
       "    </tr>\n",
       "    <tr>\n",
       "      <th>3</th>\n",
       "      <td>Abhijeet Baghel</td>\n",
       "      <td>Foundations: Data, Data, Everywhere</td>\n",
       "      <td>All about analytical thinking</td>\n",
       "      <td>*Weekly challenge  2*</td>\n",
       "      <td>Yes</td>\n",
       "      <td>Yes</td>\n",
       "      <td>86.44</td>\n",
       "      <td>5.5494</td>\n",
       "    </tr>\n",
       "    <tr>\n",
       "      <th>4</th>\n",
       "      <td>Abhijeet Baghel</td>\n",
       "      <td>Foundations: Data, Data, Everywhere</td>\n",
       "      <td>The wonderful world of data</td>\n",
       "      <td>*Weekly challenge 3*</td>\n",
       "      <td>No</td>\n",
       "      <td>Yes</td>\n",
       "      <td>86.44</td>\n",
       "      <td>5.5494</td>\n",
       "    </tr>\n",
       "    <tr>\n",
       "      <th>5</th>\n",
       "      <td>Abhijeet Baghel</td>\n",
       "      <td>Foundations: Data, Data, Everywhere</td>\n",
       "      <td>The wonderful world of data</td>\n",
       "      <td>*Weekly challenge 3*</td>\n",
       "      <td>No</td>\n",
       "      <td>Yes</td>\n",
       "      <td>86.44</td>\n",
       "      <td>5.5494</td>\n",
       "    </tr>\n",
       "    <tr>\n",
       "      <th>6</th>\n",
       "      <td>Abhijeet Baghel</td>\n",
       "      <td>Foundations: Data, Data, Everywhere</td>\n",
       "      <td>The wonderful world of data</td>\n",
       "      <td>*Weekly challenge 3*</td>\n",
       "      <td>No</td>\n",
       "      <td>Yes</td>\n",
       "      <td>86.44</td>\n",
       "      <td>5.5494</td>\n",
       "    </tr>\n",
       "    <tr>\n",
       "      <th>7</th>\n",
       "      <td>Abhijeet Baghel</td>\n",
       "      <td>Foundations: Data, Data, Everywhere</td>\n",
       "      <td>The wonderful world of data</td>\n",
       "      <td>*Weekly challenge 3*</td>\n",
       "      <td>No</td>\n",
       "      <td>Yes</td>\n",
       "      <td>86.44</td>\n",
       "      <td>5.5494</td>\n",
       "    </tr>\n",
       "    <tr>\n",
       "      <th>8</th>\n",
       "      <td>Abhijeet Baghel</td>\n",
       "      <td>Foundations: Data, Data, Everywhere</td>\n",
       "      <td>The wonderful world of data</td>\n",
       "      <td>*Weekly challenge 3*</td>\n",
       "      <td>Yes</td>\n",
       "      <td>Yes</td>\n",
       "      <td>86.44</td>\n",
       "      <td>5.5494</td>\n",
       "    </tr>\n",
       "    <tr>\n",
       "      <th>9</th>\n",
       "      <td>Abhijeet Baghel</td>\n",
       "      <td>Foundations: Data, Data, Everywhere</td>\n",
       "      <td>Set up your toolbox</td>\n",
       "      <td>*Weekly challenge 4*</td>\n",
       "      <td>Yes</td>\n",
       "      <td>Yes</td>\n",
       "      <td>86.44</td>\n",
       "      <td>5.5494</td>\n",
       "    </tr>\n",
       "  </tbody>\n",
       "</table>\n",
       "</div>"
      ],
      "text/plain": [
       "         User Name                          Course Name  \\\n",
       "0  Abhijeet Baghel  Foundations: Data, Data, Everywhere   \n",
       "1  Abhijeet Baghel  Foundations: Data, Data, Everywhere   \n",
       "2  Abhijeet Baghel  Foundations: Data, Data, Everywhere   \n",
       "3  Abhijeet Baghel  Foundations: Data, Data, Everywhere   \n",
       "4  Abhijeet Baghel  Foundations: Data, Data, Everywhere   \n",
       "5  Abhijeet Baghel  Foundations: Data, Data, Everywhere   \n",
       "6  Abhijeet Baghel  Foundations: Data, Data, Everywhere   \n",
       "7  Abhijeet Baghel  Foundations: Data, Data, Everywhere   \n",
       "8  Abhijeet Baghel  Foundations: Data, Data, Everywhere   \n",
       "9  Abhijeet Baghel  Foundations: Data, Data, Everywhere   \n",
       "\n",
       "                          Module                 Lesson Is Attempt Passed  \\\n",
       "0     Introducing data analytics   *Weekly challenge 1*                No   \n",
       "1     Introducing data analytics   *Weekly challenge 1*                No   \n",
       "2     Introducing data analytics   *Weekly challenge 1*               Yes   \n",
       "3  All about analytical thinking  *Weekly challenge  2*               Yes   \n",
       "4    The wonderful world of data   *Weekly challenge 3*                No   \n",
       "5    The wonderful world of data   *Weekly challenge 3*                No   \n",
       "6    The wonderful world of data   *Weekly challenge 3*                No   \n",
       "7    The wonderful world of data   *Weekly challenge 3*                No   \n",
       "8    The wonderful world of data   *Weekly challenge 3*               Yes   \n",
       "9            Set up your toolbox   *Weekly challenge 4*               Yes   \n",
       "\n",
       "  Is Course Passed  Content Engagement  Learning Hours  \n",
       "0              Yes               86.44          5.5494  \n",
       "1              Yes               86.44          5.5494  \n",
       "2              Yes               86.44          5.5494  \n",
       "3              Yes               86.44          5.5494  \n",
       "4              Yes               86.44          5.5494  \n",
       "5              Yes               86.44          5.5494  \n",
       "6              Yes               86.44          5.5494  \n",
       "7              Yes               86.44          5.5494  \n",
       "8              Yes               86.44          5.5494  \n",
       "9              Yes               86.44          5.5494  "
      ]
     },
     "execution_count": 111,
     "metadata": {},
     "output_type": "execute_result"
    }
   ],
   "source": [
    "df.head(10)"
   ]
  },
  {
   "cell_type": "code",
   "execution_count": 112,
   "metadata": {},
   "outputs": [
    {
     "data": {
      "text/plain": [
       "Index(['User Name', 'Course Name', 'Module', 'Lesson', 'Is Attempt Passed',\n",
       "       'Is Course Passed', 'Content Engagement', 'Learning Hours'],\n",
       "      dtype='object')"
      ]
     },
     "execution_count": 112,
     "metadata": {},
     "output_type": "execute_result"
    }
   ],
   "source": [
    "df.columns"
   ]
  },
  {
   "attachments": {},
   "cell_type": "markdown",
   "metadata": {},
   "source": [
    "## Count number of student"
   ]
  },
  {
   "cell_type": "code",
   "execution_count": 113,
   "metadata": {},
   "outputs": [
    {
     "data": {
      "text/plain": [
       "(303,)"
      ]
     },
     "execution_count": 113,
     "metadata": {},
     "output_type": "execute_result"
    }
   ],
   "source": [
    "pd.unique(df['User Name']).shape"
   ]
  },
  {
   "attachments": {},
   "cell_type": "markdown",
   "metadata": {},
   "source": [
    "## % Engagement"
   ]
  },
  {
   "cell_type": "code",
   "execution_count": 117,
   "metadata": {},
   "outputs": [
    {
     "name": "stdout",
     "output_type": "stream",
     "text": [
      "(677, 8)\n"
     ]
    },
    {
     "data": {
      "text/html": [
       "<div>\n",
       "<style scoped>\n",
       "    .dataframe tbody tr th:only-of-type {\n",
       "        vertical-align: middle;\n",
       "    }\n",
       "\n",
       "    .dataframe tbody tr th {\n",
       "        vertical-align: top;\n",
       "    }\n",
       "\n",
       "    .dataframe thead th {\n",
       "        text-align: right;\n",
       "    }\n",
       "</style>\n",
       "<table border=\"1\" class=\"dataframe\">\n",
       "  <thead>\n",
       "    <tr style=\"text-align: right;\">\n",
       "      <th></th>\n",
       "      <th>User Name</th>\n",
       "      <th>Course Name</th>\n",
       "      <th>Module</th>\n",
       "      <th>Lesson</th>\n",
       "      <th>Is Attempt Passed</th>\n",
       "      <th>Is Course Passed</th>\n",
       "      <th>Content Engagement</th>\n",
       "      <th>Learning Hours</th>\n",
       "    </tr>\n",
       "  </thead>\n",
       "  <tbody>\n",
       "    <tr>\n",
       "      <th>13</th>\n",
       "      <td>Abhijeet Baghel</td>\n",
       "      <td>Foundations: Data, Data, Everywhere</td>\n",
       "      <td>Endless career possibilities</td>\n",
       "      <td>*Course challenge*</td>\n",
       "      <td>Yes</td>\n",
       "      <td>Yes</td>\n",
       "      <td>86.44</td>\n",
       "      <td>5.54940</td>\n",
       "    </tr>\n",
       "    <tr>\n",
       "      <th>18</th>\n",
       "      <td>Adiraja Sadaeng</td>\n",
       "      <td>Ask Questions to Make Data-Driven Decisions</td>\n",
       "      <td>Always remember the stakeholder</td>\n",
       "      <td>*Course challenge*</td>\n",
       "      <td>Yes</td>\n",
       "      <td>Yes</td>\n",
       "      <td>57.57</td>\n",
       "      <td>1.57943</td>\n",
       "    </tr>\n",
       "    <tr>\n",
       "      <th>24</th>\n",
       "      <td>Adiraja Sadaeng</td>\n",
       "      <td>Foundations: Data, Data, Everywhere</td>\n",
       "      <td>Endless career possibilities</td>\n",
       "      <td>*Course challenge*</td>\n",
       "      <td>Yes</td>\n",
       "      <td>Yes</td>\n",
       "      <td>97.19</td>\n",
       "      <td>8.19274</td>\n",
       "    </tr>\n",
       "    <tr>\n",
       "      <th>29</th>\n",
       "      <td>Adiraja Sadaeng</td>\n",
       "      <td>Prepare Data for Exploration</td>\n",
       "      <td>*Course challenge*</td>\n",
       "      <td>*Course challenge*</td>\n",
       "      <td>Yes</td>\n",
       "      <td>Yes</td>\n",
       "      <td>74.33</td>\n",
       "      <td>6.69554</td>\n",
       "    </tr>\n",
       "    <tr>\n",
       "      <th>41</th>\n",
       "      <td>Akapol Pornratanaraksa</td>\n",
       "      <td>Ask Questions to Make Data-Driven Decisions</td>\n",
       "      <td>Always remember the stakeholder</td>\n",
       "      <td>*Course challenge*</td>\n",
       "      <td>No</td>\n",
       "      <td>Yes</td>\n",
       "      <td>74.24</td>\n",
       "      <td>4.24414</td>\n",
       "    </tr>\n",
       "  </tbody>\n",
       "</table>\n",
       "</div>"
      ],
      "text/plain": [
       "                 User Name                                  Course Name  \\\n",
       "13         Abhijeet Baghel          Foundations: Data, Data, Everywhere   \n",
       "18         Adiraja Sadaeng  Ask Questions to Make Data-Driven Decisions   \n",
       "24         Adiraja Sadaeng          Foundations: Data, Data, Everywhere   \n",
       "29         Adiraja Sadaeng                 Prepare Data for Exploration   \n",
       "41  Akapol Pornratanaraksa  Ask Questions to Make Data-Driven Decisions   \n",
       "\n",
       "                             Module              Lesson Is Attempt Passed  \\\n",
       "13     Endless career possibilities  *Course challenge*               Yes   \n",
       "18  Always remember the stakeholder  *Course challenge*               Yes   \n",
       "24     Endless career possibilities  *Course challenge*               Yes   \n",
       "29               *Course challenge*  *Course challenge*               Yes   \n",
       "41  Always remember the stakeholder  *Course challenge*                No   \n",
       "\n",
       "   Is Course Passed  Content Engagement  Learning Hours  \n",
       "13              Yes               86.44         5.54940  \n",
       "18              Yes               57.57         1.57943  \n",
       "24              Yes               97.19         8.19274  \n",
       "29              Yes               74.33         6.69554  \n",
       "41              Yes               74.24         4.24414  "
      ]
     },
     "execution_count": 117,
     "metadata": {},
     "output_type": "execute_result"
    }
   ],
   "source": [
    "relt_df = df[(df['Lesson']== \"*Course challenge*\") | (df['Lesson']== \"Course challenge\")]\n",
    "print(relt_df.shape)\n",
    "relt_df.head()"
   ]
  },
  {
   "cell_type": "code",
   "execution_count": 118,
   "metadata": {},
   "outputs": [
    {
     "name": "stdout",
     "output_type": "stream",
     "text": [
      "(605, 8)\n"
     ]
    },
    {
     "data": {
      "text/html": [
       "<div>\n",
       "<style scoped>\n",
       "    .dataframe tbody tr th:only-of-type {\n",
       "        vertical-align: middle;\n",
       "    }\n",
       "\n",
       "    .dataframe tbody tr th {\n",
       "        vertical-align: top;\n",
       "    }\n",
       "\n",
       "    .dataframe thead th {\n",
       "        text-align: right;\n",
       "    }\n",
       "</style>\n",
       "<table border=\"1\" class=\"dataframe\">\n",
       "  <thead>\n",
       "    <tr style=\"text-align: right;\">\n",
       "      <th></th>\n",
       "      <th>User Name</th>\n",
       "      <th>Course Name</th>\n",
       "      <th>Module</th>\n",
       "      <th>Lesson</th>\n",
       "      <th>Is Attempt Passed</th>\n",
       "      <th>Is Course Passed</th>\n",
       "      <th>Content Engagement</th>\n",
       "      <th>Learning Hours</th>\n",
       "    </tr>\n",
       "  </thead>\n",
       "  <tbody>\n",
       "    <tr>\n",
       "      <th>13</th>\n",
       "      <td>Abhijeet Baghel</td>\n",
       "      <td>Foundations: Data, Data, Everywhere</td>\n",
       "      <td>Endless career possibilities</td>\n",
       "      <td>*Course challenge*</td>\n",
       "      <td>Yes</td>\n",
       "      <td>Yes</td>\n",
       "      <td>86.44</td>\n",
       "      <td>5.54940</td>\n",
       "    </tr>\n",
       "    <tr>\n",
       "      <th>18</th>\n",
       "      <td>Adiraja Sadaeng</td>\n",
       "      <td>Ask Questions to Make Data-Driven Decisions</td>\n",
       "      <td>Always remember the stakeholder</td>\n",
       "      <td>*Course challenge*</td>\n",
       "      <td>Yes</td>\n",
       "      <td>Yes</td>\n",
       "      <td>57.57</td>\n",
       "      <td>1.57943</td>\n",
       "    </tr>\n",
       "    <tr>\n",
       "      <th>24</th>\n",
       "      <td>Adiraja Sadaeng</td>\n",
       "      <td>Foundations: Data, Data, Everywhere</td>\n",
       "      <td>Endless career possibilities</td>\n",
       "      <td>*Course challenge*</td>\n",
       "      <td>Yes</td>\n",
       "      <td>Yes</td>\n",
       "      <td>97.19</td>\n",
       "      <td>8.19274</td>\n",
       "    </tr>\n",
       "    <tr>\n",
       "      <th>29</th>\n",
       "      <td>Adiraja Sadaeng</td>\n",
       "      <td>Prepare Data for Exploration</td>\n",
       "      <td>*Course challenge*</td>\n",
       "      <td>*Course challenge*</td>\n",
       "      <td>Yes</td>\n",
       "      <td>Yes</td>\n",
       "      <td>74.33</td>\n",
       "      <td>6.69554</td>\n",
       "    </tr>\n",
       "    <tr>\n",
       "      <th>42</th>\n",
       "      <td>Akapol Pornratanaraksa</td>\n",
       "      <td>Ask Questions to Make Data-Driven Decisions</td>\n",
       "      <td>Always remember the stakeholder</td>\n",
       "      <td>*Course challenge*</td>\n",
       "      <td>Yes</td>\n",
       "      <td>Yes</td>\n",
       "      <td>74.24</td>\n",
       "      <td>4.24414</td>\n",
       "    </tr>\n",
       "    <tr>\n",
       "      <th>...</th>\n",
       "      <td>...</td>\n",
       "      <td>...</td>\n",
       "      <td>...</td>\n",
       "      <td>...</td>\n",
       "      <td>...</td>\n",
       "      <td>...</td>\n",
       "      <td>...</td>\n",
       "      <td>...</td>\n",
       "    </tr>\n",
       "    <tr>\n",
       "      <th>794</th>\n",
       "      <td>Danita  Chotsophonkitti</td>\n",
       "      <td>Foundations: Data, Data, Everywhere</td>\n",
       "      <td>Endless career possibilities</td>\n",
       "      <td>*Course challenge*</td>\n",
       "      <td>Yes</td>\n",
       "      <td>Yes</td>\n",
       "      <td>91.58</td>\n",
       "      <td>5.46442</td>\n",
       "    </tr>\n",
       "    <tr>\n",
       "      <th>800</th>\n",
       "      <td>Danita  Chotsophonkitti</td>\n",
       "      <td>Prepare Data for Exploration</td>\n",
       "      <td>*Course challenge*</td>\n",
       "      <td>*Course challenge*</td>\n",
       "      <td>Yes</td>\n",
       "      <td>Yes</td>\n",
       "      <td>97.32</td>\n",
       "      <td>5.65134</td>\n",
       "    </tr>\n",
       "    <tr>\n",
       "      <th>807</th>\n",
       "      <td>Danop Leenukul</td>\n",
       "      <td>Analyze Data to Answer Questions</td>\n",
       "      <td>Performing data calculations</td>\n",
       "      <td>Course challenge</td>\n",
       "      <td>Yes</td>\n",
       "      <td>Yes</td>\n",
       "      <td>79.81</td>\n",
       "      <td>6.11718</td>\n",
       "    </tr>\n",
       "    <tr>\n",
       "      <th>812</th>\n",
       "      <td>Danop Leenukul</td>\n",
       "      <td>Ask Questions to Make Data-Driven Decisions</td>\n",
       "      <td>Always remember the stakeholder</td>\n",
       "      <td>*Course challenge*</td>\n",
       "      <td>Yes</td>\n",
       "      <td>Yes</td>\n",
       "      <td>89.39</td>\n",
       "      <td>6.06748</td>\n",
       "    </tr>\n",
       "    <tr>\n",
       "      <th>825</th>\n",
       "      <td>Danop Leenukul</td>\n",
       "      <td>Foundations: Data, Data, Everywhere</td>\n",
       "      <td>Endless career possibilities</td>\n",
       "      <td>*Course challenge*</td>\n",
       "      <td>Yes</td>\n",
       "      <td>Yes</td>\n",
       "      <td>86.44</td>\n",
       "      <td>7.40858</td>\n",
       "    </tr>\n",
       "  </tbody>\n",
       "</table>\n",
       "<p>100 rows × 8 columns</p>\n",
       "</div>"
      ],
      "text/plain": [
       "                   User Name                                  Course Name  \\\n",
       "13           Abhijeet Baghel          Foundations: Data, Data, Everywhere   \n",
       "18           Adiraja Sadaeng  Ask Questions to Make Data-Driven Decisions   \n",
       "24           Adiraja Sadaeng          Foundations: Data, Data, Everywhere   \n",
       "29           Adiraja Sadaeng                 Prepare Data for Exploration   \n",
       "42    Akapol Pornratanaraksa  Ask Questions to Make Data-Driven Decisions   \n",
       "..                       ...                                          ...   \n",
       "794  Danita  Chotsophonkitti          Foundations: Data, Data, Everywhere   \n",
       "800  Danita  Chotsophonkitti                 Prepare Data for Exploration   \n",
       "807           Danop Leenukul             Analyze Data to Answer Questions   \n",
       "812           Danop Leenukul  Ask Questions to Make Data-Driven Decisions   \n",
       "825           Danop Leenukul          Foundations: Data, Data, Everywhere   \n",
       "\n",
       "                              Module              Lesson Is Attempt Passed  \\\n",
       "13      Endless career possibilities  *Course challenge*               Yes   \n",
       "18   Always remember the stakeholder  *Course challenge*               Yes   \n",
       "24      Endless career possibilities  *Course challenge*               Yes   \n",
       "29                *Course challenge*  *Course challenge*               Yes   \n",
       "42   Always remember the stakeholder  *Course challenge*               Yes   \n",
       "..                               ...                 ...               ...   \n",
       "794     Endless career possibilities  *Course challenge*               Yes   \n",
       "800               *Course challenge*  *Course challenge*               Yes   \n",
       "807     Performing data calculations    Course challenge               Yes   \n",
       "812  Always remember the stakeholder  *Course challenge*               Yes   \n",
       "825     Endless career possibilities  *Course challenge*               Yes   \n",
       "\n",
       "    Is Course Passed  Content Engagement  Learning Hours  \n",
       "13               Yes               86.44         5.54940  \n",
       "18               Yes               57.57         1.57943  \n",
       "24               Yes               97.19         8.19274  \n",
       "29               Yes               74.33         6.69554  \n",
       "42               Yes               74.24         4.24414  \n",
       "..               ...                 ...             ...  \n",
       "794              Yes               91.58         5.46442  \n",
       "800              Yes               97.32         5.65134  \n",
       "807              Yes               79.81         6.11718  \n",
       "812              Yes               89.39         6.06748  \n",
       "825              Yes               86.44         7.40858  \n",
       "\n",
       "[100 rows x 8 columns]"
      ]
     },
     "execution_count": 118,
     "metadata": {},
     "output_type": "execute_result"
    }
   ],
   "source": [
    "relt_df = relt_df[relt_df['Is Attempt Passed']== \"Yes\"]\n",
    "print(relt_df.shape)\n",
    "relt_df.head(100)"
   ]
  },
  {
   "attachments": {},
   "cell_type": "markdown",
   "metadata": {},
   "source": [
    "## Avg time in Course 1"
   ]
  },
  {
   "cell_type": "code",
   "execution_count": 119,
   "metadata": {},
   "outputs": [
    {
     "name": "stdout",
     "output_type": "stream",
     "text": [
      "206\n"
     ]
    },
    {
     "data": {
      "text/plain": [
       "67.98679867986799"
      ]
     },
     "execution_count": 119,
     "metadata": {},
     "output_type": "execute_result"
    }
   ],
   "source": [
    "# เปอร์เซ็นที่ผ่าน Course1\n",
    "c1 = relt_df[relt_df['Course Name']== \"Foundations: Data, Data, Everywhere\"]\n",
    "print(c1.shape[0])\n",
    "pect_c1 = (c1.shape[0]/303)*100\n",
    "pect_c1"
   ]
  },
  {
   "cell_type": "code",
   "execution_count": 131,
   "metadata": {},
   "outputs": [
    {
     "data": {
      "text/plain": [
       "7.927146359223301"
      ]
     },
     "execution_count": 131,
     "metadata": {},
     "output_type": "execute_result"
    }
   ],
   "source": [
    "# จำนวนเวลาที่ใช้เฉลี่ยใน Course 1\n",
    "c1 = relt_df[relt_df['Course Name']== \"Foundations: Data, Data, Everywhere\"]\n",
    "hourc1 = c1[\"Learning Hours\"].sum()\n",
    "hourc1/c1.shape[0]"
   ]
  },
  {
   "cell_type": "code",
   "execution_count": 121,
   "metadata": {},
   "outputs": [
    {
     "name": "stdout",
     "output_type": "stream",
     "text": [
      "158\n"
     ]
    },
    {
     "data": {
      "text/plain": [
       "52.14521452145215"
      ]
     },
     "execution_count": 121,
     "metadata": {},
     "output_type": "execute_result"
    }
   ],
   "source": [
    "# เปอร์เซ็นที่ผ่าน Course2\n",
    "c2 = relt_df[relt_df['Course Name']== \"Ask Questions to Make Data-Driven Decisions\"]\n",
    "print(c2.shape[0])\n",
    "pect_c2 = (c2.shape[0]/303)*100\n",
    "pect_c2"
   ]
  },
  {
   "cell_type": "code",
   "execution_count": 132,
   "metadata": {},
   "outputs": [
    {
     "data": {
      "text/plain": [
       "5.942138734177216"
      ]
     },
     "execution_count": 132,
     "metadata": {},
     "output_type": "execute_result"
    }
   ],
   "source": [
    "# จำนวนเวลาที่ใช้เฉลี่ยใน Course 2\n",
    "c2 = relt_df[relt_df['Course Name']== \"Ask Questions to Make Data-Driven Decisions\"]\n",
    "hourc2 = c2[\"Learning Hours\"].sum()\n",
    "hourc2/c2.shape[0]"
   ]
  },
  {
   "cell_type": "code",
   "execution_count": 123,
   "metadata": {},
   "outputs": [
    {
     "name": "stdout",
     "output_type": "stream",
     "text": [
      "115\n"
     ]
    },
    {
     "data": {
      "text/plain": [
       "37.95379537953795"
      ]
     },
     "execution_count": 123,
     "metadata": {},
     "output_type": "execute_result"
    }
   ],
   "source": [
    "# เปอร์เซ็นที่ผ่าน Course3\n",
    "c3 = relt_df[relt_df['Course Name']== \"Prepare Data for Exploration\"]\n",
    "print(c3.shape[0])\n",
    "pect_c3 = (c3.shape[0]/303)*100\n",
    "pect_c3"
   ]
  },
  {
   "cell_type": "code",
   "execution_count": 133,
   "metadata": {},
   "outputs": [
    {
     "data": {
      "text/plain": [
       "6.056355130434783"
      ]
     },
     "execution_count": 133,
     "metadata": {},
     "output_type": "execute_result"
    }
   ],
   "source": [
    "# จำนวนเวลาที่ใช้เฉลี่ยใน Course 3\n",
    "c3 = relt_df[relt_df['Course Name']== \"Prepare Data for Exploration\"]\n",
    "hourc3 = c3[\"Learning Hours\"].sum()\n",
    "hourc3/c3.shape[0]"
   ]
  },
  {
   "cell_type": "code",
   "execution_count": 126,
   "metadata": {},
   "outputs": [
    {
     "data": {
      "text/plain": [
       "array(['Foundations: Data, Data, Everywhere',\n",
       "       'Ask Questions to Make Data-Driven Decisions',\n",
       "       'Prepare Data for Exploration', 'Analyze Data to Answer Questions',\n",
       "       'Process Data from Dirty to Clean'], dtype=object)"
      ]
     },
     "execution_count": 126,
     "metadata": {},
     "output_type": "execute_result"
    }
   ],
   "source": [
    "pd.unique(relt_df['Course Name'])"
   ]
  },
  {
   "cell_type": "code",
   "execution_count": 127,
   "metadata": {},
   "outputs": [
    {
     "name": "stdout",
     "output_type": "stream",
     "text": [
      "74\n"
     ]
    },
    {
     "data": {
      "text/plain": [
       "24.422442244224424"
      ]
     },
     "execution_count": 127,
     "metadata": {},
     "output_type": "execute_result"
    }
   ],
   "source": [
    "# เปอร์เซ็นที่ผ่าน Course4\n",
    "c4 = relt_df[relt_df['Course Name']== \"Process Data from Dirty to Clean\"]\n",
    "print(c4.shape[0])\n",
    "pect_c4 = (c4.shape[0]/303)*100\n",
    "pect_c4"
   ]
  },
  {
   "cell_type": "code",
   "execution_count": 134,
   "metadata": {},
   "outputs": [
    {
     "data": {
      "text/plain": [
       "5.87489581081081"
      ]
     },
     "execution_count": 134,
     "metadata": {},
     "output_type": "execute_result"
    }
   ],
   "source": [
    "# จำนวนเวลาที่ใช้เฉลี่ยใน Course 4\n",
    "c4 = relt_df[relt_df['Course Name']== \"Process Data from Dirty to Clean\"]\n",
    "hourc4 = c4[\"Learning Hours\"].sum()\n",
    "hourc4/c4.shape[0]"
   ]
  },
  {
   "cell_type": "code",
   "execution_count": 135,
   "metadata": {},
   "outputs": [
    {
     "name": "stdout",
     "output_type": "stream",
     "text": [
      "52\n"
     ]
    },
    {
     "data": {
      "text/plain": [
       "17.16171617161716"
      ]
     },
     "execution_count": 135,
     "metadata": {},
     "output_type": "execute_result"
    }
   ],
   "source": [
    "# เปอร์เซ็นที่ผ่าน Course5\n",
    "c5 = relt_df[relt_df['Course Name']== \"Analyze Data to Answer Questions\"]\n",
    "print(c5.shape[0])\n",
    "pect_c5 = (c5.shape[0]/303)*100\n",
    "pect_c5"
   ]
  },
  {
   "cell_type": "code",
   "execution_count": 136,
   "metadata": {},
   "outputs": [
    {
     "data": {
      "text/plain": [
       "4.854382692307692"
      ]
     },
     "execution_count": 136,
     "metadata": {},
     "output_type": "execute_result"
    }
   ],
   "source": [
    "# จำนวนเวลาที่ใช้เฉลี่ยใน Course 5\n",
    "c5 = relt_df[relt_df['Course Name']== \"Analyze Data to Answer Questions\"]\n",
    "hourc5 = c5[\"Learning Hours\"].sum()\n",
    "hourc5/c5.shape[0]"
   ]
  },
  {
   "cell_type": "code",
   "execution_count": null,
   "metadata": {},
   "outputs": [],
   "source": []
  }
 ],
 "metadata": {
  "kernelspec": {
   "display_name": "sklearn",
   "language": "python",
   "name": "python3"
  },
  "language_info": {
   "codemirror_mode": {
    "name": "ipython",
    "version": 3
   },
   "file_extension": ".py",
   "mimetype": "text/x-python",
   "name": "python",
   "nbconvert_exporter": "python",
   "pygments_lexer": "ipython3",
   "version": "3.8.12"
  },
  "orig_nbformat": 4,
  "vscode": {
   "interpreter": {
    "hash": "64703ecc5c62a171eeb3e5d014e0d35c5a082d4acb28d4ac9ce1bd8efc90e316"
   }
  }
 },
 "nbformat": 4,
 "nbformat_minor": 2
}
